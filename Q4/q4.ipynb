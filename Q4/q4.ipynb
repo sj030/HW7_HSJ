{
 "cells": [
  {
   "cell_type": "code",
   "execution_count": 23,
   "id": "a613c080",
   "metadata": {
    "scrolled": true
   },
   "outputs": [
    {
     "data": {
      "text/html": [
       "<div>\n",
       "<style scoped>\n",
       "    .dataframe tbody tr th:only-of-type {\n",
       "        vertical-align: middle;\n",
       "    }\n",
       "\n",
       "    .dataframe tbody tr th {\n",
       "        vertical-align: top;\n",
       "    }\n",
       "\n",
       "    .dataframe thead th {\n",
       "        text-align: right;\n",
       "    }\n",
       "</style>\n",
       "<table border=\"1\" class=\"dataframe\">\n",
       "  <thead>\n",
       "    <tr style=\"text-align: right;\">\n",
       "      <th></th>\n",
       "      <th>2022년_계_총인구수</th>\n",
       "      <th>2022년_남_총인구수</th>\n",
       "      <th>2022년_여_총인구수</th>\n",
       "    </tr>\n",
       "  </thead>\n",
       "  <tbody>\n",
       "    <tr>\n",
       "      <th>0</th>\n",
       "      <td>51,439,038</td>\n",
       "      <td>25,636,951</td>\n",
       "      <td>25,802,087</td>\n",
       "    </tr>\n",
       "    <tr>\n",
       "      <th>1</th>\n",
       "      <td>9,428,372</td>\n",
       "      <td>4,570,048</td>\n",
       "      <td>4,858,324</td>\n",
       "    </tr>\n",
       "    <tr>\n",
       "      <th>2</th>\n",
       "      <td>3,317,812</td>\n",
       "      <td>1,619,915</td>\n",
       "      <td>1,697,897</td>\n",
       "    </tr>\n",
       "    <tr>\n",
       "      <th>3</th>\n",
       "      <td>2,363,691</td>\n",
       "      <td>1,162,865</td>\n",
       "      <td>1,200,826</td>\n",
       "    </tr>\n",
       "    <tr>\n",
       "      <th>4</th>\n",
       "      <td>2,967,314</td>\n",
       "      <td>1,485,175</td>\n",
       "      <td>1,482,139</td>\n",
       "    </tr>\n",
       "  </tbody>\n",
       "</table>\n",
       "</div>"
      ],
      "text/plain": [
       "  2022년_계_총인구수 2022년_남_총인구수 2022년_여_총인구수\n",
       "0   51,439,038   25,636,951   25,802,087\n",
       "1    9,428,372    4,570,048    4,858,324\n",
       "2    3,317,812    1,619,915    1,697,897\n",
       "3    2,363,691    1,162,865    1,200,826\n",
       "4    2,967,314    1,485,175    1,482,139"
      ]
     },
     "execution_count": 23,
     "metadata": {},
     "output_type": "execute_result"
    }
   ],
   "source": [
    "import pandas as pd\n",
    "df1 = pd.read_csv('gender2.csv', encoding='ANSI')\n",
    "df2 = df1[[\"2022년_계_총인구수\", \"2022년_남_총인구수\", \"2022년_여_총인구수\"]]\n",
    "df2.head()"
   ]
  },
  {
   "cell_type": "code",
   "execution_count": 25,
   "id": "7536c40a",
   "metadata": {
    "scrolled": true
   },
   "outputs": [
    {
     "data": {
      "text/html": [
       "<div>\n",
       "<style scoped>\n",
       "    .dataframe tbody tr th:only-of-type {\n",
       "        vertical-align: middle;\n",
       "    }\n",
       "\n",
       "    .dataframe tbody tr th {\n",
       "        vertical-align: top;\n",
       "    }\n",
       "\n",
       "    .dataframe thead th {\n",
       "        text-align: right;\n",
       "    }\n",
       "</style>\n",
       "<table border=\"1\" class=\"dataframe\">\n",
       "  <thead>\n",
       "    <tr style=\"text-align: right;\">\n",
       "      <th></th>\n",
       "      <th>Total</th>\n",
       "      <th>Male</th>\n",
       "      <th>Female</th>\n",
       "    </tr>\n",
       "  </thead>\n",
       "  <tbody>\n",
       "    <tr>\n",
       "      <th>0</th>\n",
       "      <td>51,439,038</td>\n",
       "      <td>25,636,951</td>\n",
       "      <td>25,802,087</td>\n",
       "    </tr>\n",
       "    <tr>\n",
       "      <th>1</th>\n",
       "      <td>9,428,372</td>\n",
       "      <td>4,570,048</td>\n",
       "      <td>4,858,324</td>\n",
       "    </tr>\n",
       "    <tr>\n",
       "      <th>2</th>\n",
       "      <td>3,317,812</td>\n",
       "      <td>1,619,915</td>\n",
       "      <td>1,697,897</td>\n",
       "    </tr>\n",
       "    <tr>\n",
       "      <th>3</th>\n",
       "      <td>2,363,691</td>\n",
       "      <td>1,162,865</td>\n",
       "      <td>1,200,826</td>\n",
       "    </tr>\n",
       "    <tr>\n",
       "      <th>4</th>\n",
       "      <td>2,967,314</td>\n",
       "      <td>1,485,175</td>\n",
       "      <td>1,482,139</td>\n",
       "    </tr>\n",
       "  </tbody>\n",
       "</table>\n",
       "</div>"
      ],
      "text/plain": [
       "        Total        Male      Female\n",
       "0  51,439,038  25,636,951  25,802,087\n",
       "1   9,428,372   4,570,048   4,858,324\n",
       "2   3,317,812   1,619,915   1,697,897\n",
       "3   2,363,691   1,162,865   1,200,826\n",
       "4   2,967,314   1,485,175   1,482,139"
      ]
     },
     "execution_count": 25,
     "metadata": {},
     "output_type": "execute_result"
    }
   ],
   "source": [
    "# 총 인구수 total, 남 총 인구수(Male), 여 총 인구수(Female)\n",
    "df2.columns = [\"Total\", \"Male\", \"Female\"]\n",
    "df2.head()"
   ]
  },
  {
   "cell_type": "code",
   "execution_count": null,
   "id": "ccf9e1bb",
   "metadata": {},
   "outputs": [],
   "source": []
  }
 ],
 "metadata": {
  "kernelspec": {
   "display_name": "Python 3 (ipykernel)",
   "language": "python",
   "name": "python3"
  },
  "language_info": {
   "codemirror_mode": {
    "name": "ipython",
    "version": 3
   },
   "file_extension": ".py",
   "mimetype": "text/x-python",
   "name": "python",
   "nbconvert_exporter": "python",
   "pygments_lexer": "ipython3",
   "version": "3.9.13"
  }
 },
 "nbformat": 4,
 "nbformat_minor": 5
}
