{
 "cells": [
  {
   "cell_type": "code",
   "execution_count": 4,
   "id": "aa6505b9",
   "metadata": {},
   "outputs": [],
   "source": [
    "import numpy as np\n",
    "import math\n",
    "docs = np.array([[1,1,0,1,0,1], [1,1,1,0,1,0], [1,1,0,1,0,0]])\n",
    "query = np.array([1,1,0,0,1,0])"
   ]
  },
  {
   "cell_type": "code",
   "execution_count": 6,
   "id": "9852c7da",
   "metadata": {},
   "outputs": [
    {
     "name": "stdout",
     "output_type": "stream",
     "text": [
      "doc1  0.58\n",
      "doc2  0.87\n",
      "doc3  0.67\n"
     ]
    }
   ],
   "source": [
    "for i in range(3):\n",
    "    print(\"doc\" + str(i+1), end=\"\")\n",
    "    cos1 = np.dot(docs[i], query)\n",
    "    cos2 = np.linalg.norm(docs[i]) * np.linalg.norm(query)\n",
    "    print(\"  {:.2f}\".format(cos1/ cos2) )"
   ]
  },
  {
   "cell_type": "code",
   "execution_count": null,
   "id": "4704e4e2",
   "metadata": {},
   "outputs": [],
   "source": []
  }
 ],
 "metadata": {
  "kernelspec": {
   "display_name": "Python 3 (ipykernel)",
   "language": "python",
   "name": "python3"
  },
  "language_info": {
   "codemirror_mode": {
    "name": "ipython",
    "version": 3
   },
   "file_extension": ".py",
   "mimetype": "text/x-python",
   "name": "python",
   "nbconvert_exporter": "python",
   "pygments_lexer": "ipython3",
   "version": "3.9.13"
  }
 },
 "nbformat": 4,
 "nbformat_minor": 5
}
