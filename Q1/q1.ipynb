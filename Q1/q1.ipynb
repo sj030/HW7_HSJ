{
 "cells": [
  {
   "cell_type": "code",
   "execution_count": 1,
   "id": "6d49b798",
   "metadata": {},
   "outputs": [
    {
     "name": "stdout",
     "output_type": "stream",
     "text": [
      "the eigenvalues [-0.37228132  5.37228132]\n",
      "the eigenvector [[-0.82456484 -0.41597356]\n",
      " [ 0.56576746 -0.90937671]]\n",
      "the determinant -2.0000000000000004\n"
     ]
    }
   ],
   "source": [
    "import numpy as np\n",
    "a = np.array([[1,2], [3,4]])\n",
    "w, v = np.linalg.eig(a)\n",
    "d = np.linalg.det(a)\n",
    "print(\"the eigenvalues \" + str(w))\n",
    "print(\"the eigenvector \" + str(v))\n",
    "print(\"the determinant \" + str(d))"
   ]
  },
  {
   "cell_type": "code",
   "execution_count": 4,
   "id": "1d39973a",
   "metadata": {},
   "outputs": [
    {
     "name": "stdout",
     "output_type": "stream",
     "text": [
      "product [-3  6 -3]\n"
     ]
    }
   ],
   "source": [
    "vec1 = np.array([1,2,3])\n",
    "vec2 = np.array([4,5,6])\n",
    "result = np.cross(vec1, vec2)\n",
    "print(\"product \" + str(result))"
   ]
  },
  {
   "cell_type": "code",
   "execution_count": 5,
   "id": "07075e5b",
   "metadata": {},
   "outputs": [
    {
     "name": "stdout",
     "output_type": "stream",
     "text": [
      "[[-15]\n",
      " [-21]\n",
      " [ 18]]\n",
      "result [[-1.]\n",
      " [-4.]\n",
      " [ 3.]]\n"
     ]
    }
   ],
   "source": [
    "a = np.matrix([[1,2,-2], [2,1,-5], [1,-4,1]])\n",
    "b = np.matrix([-15,-21,18]).transpose()\n",
    "print(b)\n",
    "x = np.linalg.solve(a,b)\n",
    "print(\"result \" + str(x))"
   ]
  },
  {
   "cell_type": "code",
   "execution_count": null,
   "id": "546995d1",
   "metadata": {},
   "outputs": [],
   "source": []
  }
 ],
 "metadata": {
  "kernelspec": {
   "display_name": "Python 3 (ipykernel)",
   "language": "python",
   "name": "python3"
  },
  "language_info": {
   "codemirror_mode": {
    "name": "ipython",
    "version": 3
   },
   "file_extension": ".py",
   "mimetype": "text/x-python",
   "name": "python",
   "nbconvert_exporter": "python",
   "pygments_lexer": "ipython3",
   "version": "3.9.13"
  }
 },
 "nbformat": 4,
 "nbformat_minor": 5
}
